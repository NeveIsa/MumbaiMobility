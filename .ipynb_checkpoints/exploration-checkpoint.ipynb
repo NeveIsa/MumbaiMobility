{
 "cells": [
  {
   "cell_type": "markdown",
   "id": "255e96ba-1368-47c2-866e-4598997cb493",
   "metadata": {},
   "source": [
    "<h2 style='color: crimson; border-bottom: 1px seagreen dotted'>MUMBAI TRAVEL TIMES {Q4 2019}</h2>\n",
    "\n",
    "Access Dataset here ---> [Uber Movement Mumbai](https://movement.uber.com/explore/mumbai/travel-times/query?si=254&ti=&ag=hexclusters&dt[tpb]=ALL_DAY&dt[wd;]=1,2,3,4,5,6,7&dt[dr][sd]=2020-03-01&dt[dr][ed]=2020-03-31&cd=&sa;=72.9132679,19.1334302&sdn=Indian%20Institute%20of%20Technology%20Bombay,%20Main%20Gate%20Rd,%20IIT%20Area,%20Powai,%20Mumbai,%20Maharashtra&lng.=72.8508724&lat.=19.122537&z.=10.01&lang=en-US)\n",
    "\n",
    "![Mumbai Trave Times](mumbai_hexagons.png)\n",
    "<p style='color:orange; padding-left: 20em; border: seagreen 1px dotted'> MUMBAI ORIGIN DESTINATION TRAVELTIME HEATMAP </p>"
   ]
  },
  {
   "cell_type": "code",
   "execution_count": 1,
   "id": "8115d44b-7d23-427a-9979-f16e5f97bc0b",
   "metadata": {
    "jupyter": {
     "source_hidden": true
    },
    "tags": []
   },
   "outputs": [],
   "source": [
    "# install requirements\n",
    "!pip install -q -r req.txt"
   ]
  },
  {
   "cell_type": "code",
   "execution_count": 2,
   "id": "28bb45b0-567d-4b9e-bc48-486f776b4a29",
   "metadata": {
    "jupyter": {
     "source_hidden": true
    },
    "tags": []
   },
   "outputs": [],
   "source": [
    "# All imports\n",
    "\n",
    "import numpy as np\n",
    "import pandas as pd\n",
    "import json\n",
    "\n",
    "\n",
    "import matplotlib.pyplot as plt\n",
    "plt.rcParams['figure.figsize'] = [10, 5]\n",
    "\n",
    "import seaborn as sns\n",
    "\n",
    "\n",
    "from prettyprinter import pprint \n",
    "\n"
   ]
  },
  {
   "cell_type": "code",
   "execution_count": 3,
   "id": "125a3e61-9b30-4a25-ab51-3cbde5362a2b",
   "metadata": {
    "tags": []
   },
   "outputs": [],
   "source": [
    "# read dataframe and metadata\n",
    "\n",
    "df = pd.read_csv('mumbai-hexclusters-2019-4-All-HourlyAggregate.csv')\n",
    "hexagons = json.load(open('mumbai_hexclusters.json'))['features']"
   ]
  },
  {
   "cell_type": "code",
   "execution_count": 4,
   "id": "48e1d821-4b97-4cdd-aed3-3c36739e51c6",
   "metadata": {
    "jupyter": {
     "source_hidden": true
    },
    "tags": []
   },
   "outputs": [
    {
     "data": {
      "text/html": [
       "<div>\n",
       "<style scoped>\n",
       "    .dataframe tbody tr th:only-of-type {\n",
       "        vertical-align: middle;\n",
       "    }\n",
       "\n",
       "    .dataframe tbody tr th {\n",
       "        vertical-align: top;\n",
       "    }\n",
       "\n",
       "    .dataframe thead th {\n",
       "        text-align: right;\n",
       "    }\n",
       "</style>\n",
       "<table border=\"1\" class=\"dataframe\">\n",
       "  <thead>\n",
       "    <tr style=\"text-align: right;\">\n",
       "      <th></th>\n",
       "      <th>sourceid</th>\n",
       "      <th>dstid</th>\n",
       "      <th>hod</th>\n",
       "      <th>mean_travel_time</th>\n",
       "      <th>standard_deviation_travel_time</th>\n",
       "      <th>geometric_mean_travel_time</th>\n",
       "      <th>geometric_standard_deviation_travel_time</th>\n",
       "    </tr>\n",
       "  </thead>\n",
       "  <tbody>\n",
       "    <tr>\n",
       "      <th>0</th>\n",
       "      <td>171</td>\n",
       "      <td>206</td>\n",
       "      <td>15</td>\n",
       "      <td>2949.31</td>\n",
       "      <td>1139.79</td>\n",
       "      <td>2772.51</td>\n",
       "      <td>1.40</td>\n",
       "    </tr>\n",
       "    <tr>\n",
       "      <th>1</th>\n",
       "      <td>255</td>\n",
       "      <td>439</td>\n",
       "      <td>10</td>\n",
       "      <td>5045.33</td>\n",
       "      <td>839.06</td>\n",
       "      <td>4978.27</td>\n",
       "      <td>1.18</td>\n",
       "    </tr>\n",
       "    <tr>\n",
       "      <th>2</th>\n",
       "      <td>110</td>\n",
       "      <td>18</td>\n",
       "      <td>0</td>\n",
       "      <td>2932.71</td>\n",
       "      <td>537.47</td>\n",
       "      <td>2886.25</td>\n",
       "      <td>1.19</td>\n",
       "    </tr>\n",
       "    <tr>\n",
       "      <th>3</th>\n",
       "      <td>38</td>\n",
       "      <td>7</td>\n",
       "      <td>5</td>\n",
       "      <td>2690.29</td>\n",
       "      <td>741.75</td>\n",
       "      <td>2591.41</td>\n",
       "      <td>1.31</td>\n",
       "    </tr>\n",
       "    <tr>\n",
       "      <th>4</th>\n",
       "      <td>277</td>\n",
       "      <td>219</td>\n",
       "      <td>10</td>\n",
       "      <td>4848.73</td>\n",
       "      <td>730.67</td>\n",
       "      <td>4796.48</td>\n",
       "      <td>1.16</td>\n",
       "    </tr>\n",
       "  </tbody>\n",
       "</table>\n",
       "</div>"
      ],
      "text/plain": [
       "   sourceid  dstid  hod  mean_travel_time  standard_deviation_travel_time  \\\n",
       "0       171    206   15           2949.31                         1139.79   \n",
       "1       255    439   10           5045.33                          839.06   \n",
       "2       110     18    0           2932.71                          537.47   \n",
       "3        38      7    5           2690.29                          741.75   \n",
       "4       277    219   10           4848.73                          730.67   \n",
       "\n",
       "   geometric_mean_travel_time  geometric_standard_deviation_travel_time  \n",
       "0                     2772.51                                      1.40  \n",
       "1                     4978.27                                      1.18  \n",
       "2                     2886.25                                      1.19  \n",
       "3                     2591.41                                      1.31  \n",
       "4                     4796.48                                      1.16  "
      ]
     },
     "execution_count": 4,
     "metadata": {},
     "output_type": "execute_result"
    }
   ],
   "source": [
    "# peek into dataframe\n",
    "df.head()"
   ]
  },
  {
   "cell_type": "markdown",
   "id": "155125d8-54ca-4a71-b532-6f9d7e14f06f",
   "metadata": {},
   "source": [
    "```python\n",
    "\n",
    "### definition ###\n",
    "hod = hour of day\n",
    "```\n"
   ]
  },
  {
   "cell_type": "code",
   "execution_count": 5,
   "id": "56efd121-c502-4c3a-a9fa-6fc8b086195d",
   "metadata": {},
   "outputs": [
    {
     "name": "stdout",
     "output_type": "stream",
     "text": [
      "{\n",
      "    'type': 'Feature',\n",
      "    'properties': {\n",
      "        'MOVEMENT_ID': '1',\n",
      "        'DISPLAY_NAME': '0, Beverly Park Rd, Chandan Shanti, Mira Road East'\n",
      "    },\n",
      "    'geometry': {\n",
      "        'type': 'Polygon',\n",
      "        'coordinates': [\n",
      "            [\n",
      "                [72.87164792379636, 19.28533060455805],\n",
      "                [72.8710709563304, 19.28699016299829],\n",
      "                [72.87222988623245, 19.288411970470293],\n",
      "                [72.87165291120459, 19.290071498239048],\n",
      "                [72.86991701541635, 19.29030919072361],\n",
      "                [72.86934004196853, 19.29196866000375],\n",
      "                [72.86760418931208, 19.292206301216417],\n",
      "                [72.86702721744616, 19.293865712003942],\n",
      "                [72.86529140792581, 19.294103301944087],\n",
      "                [72.86413260267913, 19.292681516129214],\n",
      "                [72.86470956539794, 19.291022133151962],\n",
      "                [72.86355078499479, 19.289600351689437],\n",
      "                [72.86412774015048, 19.287940938034637],\n",
      "                [72.86296898459013, 19.286519160934247],\n",
      "                [72.86354593218276, 19.28485971661055],\n",
      "                [72.86528164448423, 19.284622021569387],\n",
      "                [72.86585859366207, 19.282962518763945],\n",
      "                [72.86759434909965, 19.28272477245706],\n",
      "                [72.86875318776426, 19.284146563988156],\n",
      "                [72.87048901873914, 19.283908801446383],\n",
      "                [72.87164792379636, 19.28533060455805]\n",
      "            ]\n",
      "        ]\n",
      "    }\n",
      "}\n"
     ]
    }
   ],
   "source": [
    "# peek metadata\n",
    "pprint(hexagons[0])"
   ]
  },
  {
   "cell_type": "code",
   "execution_count": 6,
   "id": "1e05110f-47e6-4245-935e-4b8cb29bff47",
   "metadata": {},
   "outputs": [],
   "source": [
    "m = df.mean_travel_time"
   ]
  },
  {
   "cell_type": "code",
   "execution_count": 7,
   "id": "da4a60a4-0485-46ff-8d39-7318bebb1c25",
   "metadata": {},
   "outputs": [
    {
     "data": {
      "text/plain": [
       "0.0001748548827610325"
      ]
     },
     "execution_count": 7,
     "metadata": {},
     "output_type": "execute_result"
    }
   ],
   "source": [
    "df[df.mean_travel_time < 60].size / df.size"
   ]
  },
  {
   "cell_type": "code",
   "execution_count": 31,
   "id": "0497edfe-e290-4c18-9b97-c54f7ac66c0a",
   "metadata": {},
   "outputs": [],
   "source": [
    "gdf = df.groupby(['sourceid','dstid', 'hod']).mean()"
   ]
  },
  {
   "cell_type": "code",
   "execution_count": 33,
   "id": "63f828ac-fc25-4d43-be3e-23d3668f7f3e",
   "metadata": {},
   "outputs": [
    {
     "data": {
      "text/html": [
       "<div>\n",
       "<style scoped>\n",
       "    .dataframe tbody tr th:only-of-type {\n",
       "        vertical-align: middle;\n",
       "    }\n",
       "\n",
       "    .dataframe tbody tr th {\n",
       "        vertical-align: top;\n",
       "    }\n",
       "\n",
       "    .dataframe thead th {\n",
       "        text-align: right;\n",
       "    }\n",
       "</style>\n",
       "<table border=\"1\" class=\"dataframe\">\n",
       "  <thead>\n",
       "    <tr style=\"text-align: right;\">\n",
       "      <th></th>\n",
       "      <th></th>\n",
       "      <th></th>\n",
       "      <th>mean_travel_time</th>\n",
       "      <th>standard_deviation_travel_time</th>\n",
       "      <th>geometric_mean_travel_time</th>\n",
       "      <th>geometric_standard_deviation_travel_time</th>\n",
       "    </tr>\n",
       "    <tr>\n",
       "      <th>sourceid</th>\n",
       "      <th>dstid</th>\n",
       "      <th>hod</th>\n",
       "      <th></th>\n",
       "      <th></th>\n",
       "      <th></th>\n",
       "      <th></th>\n",
       "    </tr>\n",
       "  </thead>\n",
       "  <tbody>\n",
       "    <tr>\n",
       "      <th rowspan=\"5\" valign=\"top\">1</th>\n",
       "      <th>1</th>\n",
       "      <th>23</th>\n",
       "      <td>507.03</td>\n",
       "      <td>656.41</td>\n",
       "      <td>234.97</td>\n",
       "      <td>3.54</td>\n",
       "    </tr>\n",
       "    <tr>\n",
       "      <th rowspan=\"3\" valign=\"top\">2</th>\n",
       "      <th>7</th>\n",
       "      <td>6050.17</td>\n",
       "      <td>689.19</td>\n",
       "      <td>6012.71</td>\n",
       "      <td>1.12</td>\n",
       "    </tr>\n",
       "    <tr>\n",
       "      <th>17</th>\n",
       "      <td>7151.45</td>\n",
       "      <td>995.62</td>\n",
       "      <td>7085.07</td>\n",
       "      <td>1.15</td>\n",
       "    </tr>\n",
       "    <tr>\n",
       "      <th>19</th>\n",
       "      <td>8188.67</td>\n",
       "      <td>1430.46</td>\n",
       "      <td>8061.85</td>\n",
       "      <td>1.19</td>\n",
       "    </tr>\n",
       "    <tr>\n",
       "      <th>3</th>\n",
       "      <th>0</th>\n",
       "      <td>3043.06</td>\n",
       "      <td>499.29</td>\n",
       "      <td>3000.24</td>\n",
       "      <td>1.19</td>\n",
       "    </tr>\n",
       "    <tr>\n",
       "      <th>...</th>\n",
       "      <th>...</th>\n",
       "      <th>...</th>\n",
       "      <td>...</td>\n",
       "      <td>...</td>\n",
       "      <td>...</td>\n",
       "      <td>...</td>\n",
       "    </tr>\n",
       "    <tr>\n",
       "      <th rowspan=\"5\" valign=\"top\">695</th>\n",
       "      <th rowspan=\"4\" valign=\"top\">691</th>\n",
       "      <th>20</th>\n",
       "      <td>1939.44</td>\n",
       "      <td>599.61</td>\n",
       "      <td>1866.60</td>\n",
       "      <td>1.30</td>\n",
       "    </tr>\n",
       "    <tr>\n",
       "      <th>21</th>\n",
       "      <td>1602.75</td>\n",
       "      <td>295.28</td>\n",
       "      <td>1580.83</td>\n",
       "      <td>1.17</td>\n",
       "    </tr>\n",
       "    <tr>\n",
       "      <th>22</th>\n",
       "      <td>1663.77</td>\n",
       "      <td>365.20</td>\n",
       "      <td>1628.32</td>\n",
       "      <td>1.22</td>\n",
       "    </tr>\n",
       "    <tr>\n",
       "      <th>23</th>\n",
       "      <td>1498.69</td>\n",
       "      <td>206.31</td>\n",
       "      <td>1485.00</td>\n",
       "      <td>1.14</td>\n",
       "    </tr>\n",
       "    <tr>\n",
       "      <th>695</th>\n",
       "      <th>23</th>\n",
       "      <td>402.77</td>\n",
       "      <td>1014.64</td>\n",
       "      <td>92.35</td>\n",
       "      <td>3.98</td>\n",
       "    </tr>\n",
       "  </tbody>\n",
       "</table>\n",
       "<p>5684714 rows × 4 columns</p>\n",
       "</div>"
      ],
      "text/plain": [
       "                    mean_travel_time  standard_deviation_travel_time  \\\n",
       "sourceid dstid hod                                                     \n",
       "1        1     23             507.03                          656.41   \n",
       "         2     7             6050.17                          689.19   \n",
       "               17            7151.45                          995.62   \n",
       "               19            8188.67                         1430.46   \n",
       "         3     0             3043.06                          499.29   \n",
       "...                              ...                             ...   \n",
       "695      691   20            1939.44                          599.61   \n",
       "               21            1602.75                          295.28   \n",
       "               22            1663.77                          365.20   \n",
       "               23            1498.69                          206.31   \n",
       "         695   23             402.77                         1014.64   \n",
       "\n",
       "                    geometric_mean_travel_time  \\\n",
       "sourceid dstid hod                               \n",
       "1        1     23                       234.97   \n",
       "         2     7                       6012.71   \n",
       "               17                      7085.07   \n",
       "               19                      8061.85   \n",
       "         3     0                       3000.24   \n",
       "...                                        ...   \n",
       "695      691   20                      1866.60   \n",
       "               21                      1580.83   \n",
       "               22                      1628.32   \n",
       "               23                      1485.00   \n",
       "         695   23                        92.35   \n",
       "\n",
       "                    geometric_standard_deviation_travel_time  \n",
       "sourceid dstid hod                                            \n",
       "1        1     23                                       3.54  \n",
       "         2     7                                        1.12  \n",
       "               17                                       1.15  \n",
       "               19                                       1.19  \n",
       "         3     0                                        1.19  \n",
       "...                                                      ...  \n",
       "695      691   20                                       1.30  \n",
       "               21                                       1.17  \n",
       "               22                                       1.22  \n",
       "               23                                       1.14  \n",
       "         695   23                                       3.98  \n",
       "\n",
       "[5684714 rows x 4 columns]"
      ]
     },
     "execution_count": 33,
     "metadata": {},
     "output_type": "execute_result"
    }
   ],
   "source": [
    "gdf"
   ]
  },
  {
   "cell_type": "code",
   "execution_count": 36,
   "id": "0d5b8344-6fa4-40d8-a7ae-9a946e021d91",
   "metadata": {},
   "outputs": [
    {
     "data": {
      "text/plain": [
       "(5684714, 4)"
      ]
     },
     "execution_count": 36,
     "metadata": {},
     "output_type": "execute_result"
    }
   ],
   "source": []
  },
  {
   "cell_type": "code",
   "execution_count": null,
   "id": "d246abaa-fa37-4d9d-9c24-d34af63364b4",
   "metadata": {},
   "outputs": [],
   "source": []
  }
 ],
 "metadata": {
  "kernelspec": {
   "display_name": "Python 3",
   "language": "python",
   "name": "python3"
  },
  "language_info": {
   "codemirror_mode": {
    "name": "ipython",
    "version": 3
   },
   "file_extension": ".py",
   "mimetype": "text/x-python",
   "name": "python",
   "nbconvert_exporter": "python",
   "pygments_lexer": "ipython3",
   "version": "3.9.1"
  }
 },
 "nbformat": 4,
 "nbformat_minor": 5
}
