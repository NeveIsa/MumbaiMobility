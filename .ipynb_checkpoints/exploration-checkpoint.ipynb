{
 "cells": [
  {
   "cell_type": "markdown",
   "id": "255e96ba-1368-47c2-866e-4598997cb493",
   "metadata": {},
   "source": [
    "<h2 style='color: crimson; border-bottom: 1px seagreen dotted'>MUMBAI TRAVEL TIMES {Q4 2019}</h2>\n",
    "\n",
    "Access Dataset here ---> [Uber Movement Mumbai](https://movement.uber.com/explore/mumbai/travel-times/query?si=254&ti=&ag=hexclusters&dt[tpb]=ALL_DAY&dt[wd;]=1,2,3,4,5,6,7&dt[dr][sd]=2020-03-01&dt[dr][ed]=2020-03-31&cd=&sa;=72.9132679,19.1334302&sdn=Indian%20Institute%20of%20Technology%20Bombay,%20Main%20Gate%20Rd,%20IIT%20Area,%20Powai,%20Mumbai,%20Maharashtra&lng.=72.8508724&lat.=19.122537&z.=10.01&lang=en-US)\n",
    "\n",
    "![Mumbai Trave Times](mumbai_hexagons.png)\n",
    "<p style='color:orange; padding-left: 20em; border: seagreen 1px dotted'> MUMBAI ORIGIN DESTINATION TRAVELTIME HEATMAP </p>"
   ]
  },
  {
   "cell_type": "code",
   "execution_count": 57,
   "id": "8115d44b-7d23-427a-9979-f16e5f97bc0b",
   "metadata": {
    "jupyter": {
     "source_hidden": true
    },
    "tags": []
   },
   "outputs": [],
   "source": [
    "# install requirements\n",
    "!pip install -q -r req.txt"
   ]
  },
  {
   "cell_type": "code",
   "execution_count": 2,
   "id": "f1ff9ab7-6349-4f79-9592-8b12e656a433",
   "metadata": {
    "jupyter": {
     "source_hidden": true
    },
    "tags": []
   },
   "outputs": [],
   "source": [
    "# Unzip if not already done\n",
    "import os\n",
    "if not 'mumbai-hexclusters-2019-4-All-HourlyAggregate.csv' in os.listdir():\n",
    "    !unzip mumbai-hexclusters-2019-4-All-HourlyAggregate.zip"
   ]
  },
  {
   "cell_type": "code",
   "execution_count": 59,
   "id": "28bb45b0-567d-4b9e-bc48-486f776b4a29",
   "metadata": {
    "jupyter": {
     "source_hidden": true
    },
    "tags": []
   },
   "outputs": [],
   "source": [
    "# All imports\n",
    "\n",
    "\n",
    "from prettyprinter import pprint \n",
    "\n",
    "import numpy as np\n",
    "import pandas as pd\n",
    "import json\n",
    "\n",
    "\n",
    "import matplotlib.pyplot as plt\n",
    "plt.rcParams['figure.figsize'] = [10, 5]\n",
    "import seaborn as sns\n",
    "\n",
    "\n",
    "import tensorly as tl\n"
   ]
  },
  {
   "cell_type": "code",
   "execution_count": 4,
   "id": "125a3e61-9b30-4a25-ab51-3cbde5362a2b",
   "metadata": {
    "jupyter": {
     "source_hidden": true
    },
    "tags": []
   },
   "outputs": [],
   "source": [
    "# read dataframe and metadata\n",
    "\n",
    "df = pd.read_csv('mumbai-hexclusters-2019-4-All-HourlyAggregate.csv')\n",
    "hexagons = json.load(open('mumbai_hexclusters.json'))['features']"
   ]
  },
  {
   "cell_type": "code",
   "execution_count": 5,
   "id": "48e1d821-4b97-4cdd-aed3-3c36739e51c6",
   "metadata": {
    "jupyter": {
     "source_hidden": true
    },
    "tags": []
   },
   "outputs": [
    {
     "data": {
      "text/html": [
       "<div>\n",
       "<style scoped>\n",
       "    .dataframe tbody tr th:only-of-type {\n",
       "        vertical-align: middle;\n",
       "    }\n",
       "\n",
       "    .dataframe tbody tr th {\n",
       "        vertical-align: top;\n",
       "    }\n",
       "\n",
       "    .dataframe thead th {\n",
       "        text-align: right;\n",
       "    }\n",
       "</style>\n",
       "<table border=\"1\" class=\"dataframe\">\n",
       "  <thead>\n",
       "    <tr style=\"text-align: right;\">\n",
       "      <th></th>\n",
       "      <th>sourceid</th>\n",
       "      <th>dstid</th>\n",
       "      <th>hod</th>\n",
       "      <th>mean_travel_time</th>\n",
       "      <th>standard_deviation_travel_time</th>\n",
       "      <th>geometric_mean_travel_time</th>\n",
       "      <th>geometric_standard_deviation_travel_time</th>\n",
       "    </tr>\n",
       "  </thead>\n",
       "  <tbody>\n",
       "    <tr>\n",
       "      <th>0</th>\n",
       "      <td>171</td>\n",
       "      <td>206</td>\n",
       "      <td>15</td>\n",
       "      <td>2949.31</td>\n",
       "      <td>1139.79</td>\n",
       "      <td>2772.51</td>\n",
       "      <td>1.40</td>\n",
       "    </tr>\n",
       "    <tr>\n",
       "      <th>1</th>\n",
       "      <td>255</td>\n",
       "      <td>439</td>\n",
       "      <td>10</td>\n",
       "      <td>5045.33</td>\n",
       "      <td>839.06</td>\n",
       "      <td>4978.27</td>\n",
       "      <td>1.18</td>\n",
       "    </tr>\n",
       "    <tr>\n",
       "      <th>2</th>\n",
       "      <td>110</td>\n",
       "      <td>18</td>\n",
       "      <td>0</td>\n",
       "      <td>2932.71</td>\n",
       "      <td>537.47</td>\n",
       "      <td>2886.25</td>\n",
       "      <td>1.19</td>\n",
       "    </tr>\n",
       "    <tr>\n",
       "      <th>3</th>\n",
       "      <td>38</td>\n",
       "      <td>7</td>\n",
       "      <td>5</td>\n",
       "      <td>2690.29</td>\n",
       "      <td>741.75</td>\n",
       "      <td>2591.41</td>\n",
       "      <td>1.31</td>\n",
       "    </tr>\n",
       "    <tr>\n",
       "      <th>4</th>\n",
       "      <td>277</td>\n",
       "      <td>219</td>\n",
       "      <td>10</td>\n",
       "      <td>4848.73</td>\n",
       "      <td>730.67</td>\n",
       "      <td>4796.48</td>\n",
       "      <td>1.16</td>\n",
       "    </tr>\n",
       "  </tbody>\n",
       "</table>\n",
       "</div>"
      ],
      "text/plain": [
       "   sourceid  dstid  hod  mean_travel_time  standard_deviation_travel_time  \\\n",
       "0       171    206   15           2949.31                         1139.79   \n",
       "1       255    439   10           5045.33                          839.06   \n",
       "2       110     18    0           2932.71                          537.47   \n",
       "3        38      7    5           2690.29                          741.75   \n",
       "4       277    219   10           4848.73                          730.67   \n",
       "\n",
       "   geometric_mean_travel_time  geometric_standard_deviation_travel_time  \n",
       "0                     2772.51                                      1.40  \n",
       "1                     4978.27                                      1.18  \n",
       "2                     2886.25                                      1.19  \n",
       "3                     2591.41                                      1.31  \n",
       "4                     4796.48                                      1.16  "
      ]
     },
     "execution_count": 5,
     "metadata": {},
     "output_type": "execute_result"
    }
   ],
   "source": [
    "# peek into dataframe\n",
    "df.head()"
   ]
  },
  {
   "cell_type": "markdown",
   "id": "155125d8-54ca-4a71-b532-6f9d7e14f06f",
   "metadata": {},
   "source": [
    "```python\n",
    "\n",
    "### definition ###\n",
    "hod = hour of day\n",
    "```\n"
   ]
  },
  {
   "cell_type": "code",
   "execution_count": 6,
   "id": "56efd121-c502-4c3a-a9fa-6fc8b086195d",
   "metadata": {},
   "outputs": [
    {
     "name": "stdout",
     "output_type": "stream",
     "text": [
      "{\n",
      "    'type': 'Feature',\n",
      "    'properties': {\n",
      "        'MOVEMENT_ID': '1',\n",
      "        'DISPLAY_NAME': '0, Beverly Park Rd, Chandan Shanti, Mira Road East'\n",
      "    },\n",
      "    'geometry': {\n",
      "        'type': 'Polygon',\n",
      "        'coordinates': [\n",
      "            [\n",
      "                [72.87164792379636, 19.28533060455805],\n",
      "                [72.8710709563304, 19.28699016299829],\n",
      "                [72.87222988623245, 19.288411970470293],\n",
      "                [72.87165291120459, 19.290071498239048],\n",
      "                [72.86991701541635, 19.29030919072361],\n",
      "                [72.86934004196853, 19.29196866000375],\n",
      "                [72.86760418931208, 19.292206301216417],\n",
      "                [72.86702721744616, 19.293865712003942],\n",
      "                [72.86529140792581, 19.294103301944087],\n",
      "                [72.86413260267913, 19.292681516129214],\n",
      "                [72.86470956539794, 19.291022133151962],\n",
      "                [72.86355078499479, 19.289600351689437],\n",
      "                [72.86412774015048, 19.287940938034637],\n",
      "                [72.86296898459013, 19.286519160934247],\n",
      "                [72.86354593218276, 19.28485971661055],\n",
      "                [72.86528164448423, 19.284622021569387],\n",
      "                [72.86585859366207, 19.282962518763945],\n",
      "                [72.86759434909965, 19.28272477245706],\n",
      "                [72.86875318776426, 19.284146563988156],\n",
      "                [72.87048901873914, 19.283908801446383],\n",
      "                [72.87164792379636, 19.28533060455805]\n",
      "            ]\n",
      "        ]\n",
      "    }\n",
      "}\n"
     ]
    }
   ],
   "source": [
    "# peek metadata\n",
    "pprint(hexagons[0])"
   ]
  },
  {
   "cell_type": "code",
   "execution_count": 25,
   "id": "63f828ac-fc25-4d43-be3e-23d3668f7f3e",
   "metadata": {},
   "outputs": [
    {
     "name": "stdout",
     "output_type": "stream",
     "text": [
      "All good, no repeats\n"
     ]
    }
   ],
   "source": [
    "#test all unique\n",
    "gdf = df.groupby(['sourceid','dstid', 'hod']).count()\n",
    "\n",
    "if np.all(gdf==1): print('All good, no repeats')\n",
    "else: print('Some src-dst-hod are repeated!!!')"
   ]
  },
  {
   "cell_type": "code",
   "execution_count": 83,
   "id": "15f86357-9cff-4e66-8e63-c3cb9a15355d",
   "metadata": {},
   "outputs": [],
   "source": [
    "origins = sorted(df.sourceid.unique())\n",
    "destinations = sorted(df.dstid.unique())\n",
    "hods = sorted(df.hod.unique())\n",
    "\n",
    "origin_max = max(origins)\n",
    "dest_max = max(destinations)\n",
    "hod_max = max(hods)"
   ]
  },
  {
   "cell_type": "code",
   "execution_count": 92,
   "id": "e55b49ab-e5be-453b-95ed-1d6ab99a4ca7",
   "metadata": {},
   "outputs": [
    {
     "data": {
      "text/plain": [
       "0"
      ]
     },
     "execution_count": 92,
     "metadata": {},
     "output_type": "execute_result"
    }
   ],
   "source": [
    "# Make numpy tensor\n",
    "nptensor = np.zeros(     (   dest_max+1, origin_max+1, hod_max+1  )      ) \n",
    "        \n",
    "def transfer(x):\n",
    "    nptensor[x.dstid ,x.sourceid, x.hod] = x.mean_travel_time\n",
    "    return 0\n",
    "\n",
    "df.pipe(transfer)"
   ]
  },
  {
   "cell_type": "code",
   "execution_count": 112,
   "id": "fcf5aacc-698e-4000-b39e-cf2c2ec05c45",
   "metadata": {},
   "outputs": [
    {
     "data": {
      "text/plain": [
       "3691.71"
      ]
     },
     "execution_count": 112,
     "metadata": {},
     "output_type": "execute_result"
    }
   ],
   "source": [
    "nptensor[300,3,10]"
   ]
  },
  {
   "cell_type": "code",
   "execution_count": 113,
   "id": "aeee58fa-6184-4595-94f0-bd8d7b3c857e",
   "metadata": {},
   "outputs": [
    {
     "name": "stderr",
     "output_type": "stream",
     "text": [
      "<ipython-input-113-481afcb8536b>:1: UserWarning: Boolean Series key will be reindexed to match DataFrame index.\n",
      "  df[df.sourceid==3] [ df.dstid==300 ] [ df.hod==10]\n",
      "<ipython-input-113-481afcb8536b>:1: UserWarning: Boolean Series key will be reindexed to match DataFrame index.\n",
      "  df[df.sourceid==3] [ df.dstid==300 ] [ df.hod==10]\n"
     ]
    },
    {
     "data": {
      "text/html": [
       "<div>\n",
       "<style scoped>\n",
       "    .dataframe tbody tr th:only-of-type {\n",
       "        vertical-align: middle;\n",
       "    }\n",
       "\n",
       "    .dataframe tbody tr th {\n",
       "        vertical-align: top;\n",
       "    }\n",
       "\n",
       "    .dataframe thead th {\n",
       "        text-align: right;\n",
       "    }\n",
       "</style>\n",
       "<table border=\"1\" class=\"dataframe\">\n",
       "  <thead>\n",
       "    <tr style=\"text-align: right;\">\n",
       "      <th></th>\n",
       "      <th>sourceid</th>\n",
       "      <th>dstid</th>\n",
       "      <th>hod</th>\n",
       "      <th>mean_travel_time</th>\n",
       "      <th>standard_deviation_travel_time</th>\n",
       "      <th>geometric_mean_travel_time</th>\n",
       "      <th>geometric_standard_deviation_travel_time</th>\n",
       "    </tr>\n",
       "  </thead>\n",
       "  <tbody>\n",
       "    <tr>\n",
       "      <th>2486014</th>\n",
       "      <td>3</td>\n",
       "      <td>300</td>\n",
       "      <td>10</td>\n",
       "      <td>3691.71</td>\n",
       "      <td>764.25</td>\n",
       "      <td>3626.25</td>\n",
       "      <td>1.2</td>\n",
       "    </tr>\n",
       "  </tbody>\n",
       "</table>\n",
       "</div>"
      ],
      "text/plain": [
       "         sourceid  dstid  hod  mean_travel_time  \\\n",
       "2486014         3    300   10           3691.71   \n",
       "\n",
       "         standard_deviation_travel_time  geometric_mean_travel_time  \\\n",
       "2486014                          764.25                     3626.25   \n",
       "\n",
       "         geometric_standard_deviation_travel_time  \n",
       "2486014                                       1.2  "
      ]
     },
     "execution_count": 113,
     "metadata": {},
     "output_type": "execute_result"
    }
   ],
   "source": [
    "df[df.sourceid==3] [ df.dstid==300 ] [ df.hod==10]"
   ]
  },
  {
   "cell_type": "code",
   "execution_count": null,
   "id": "8afcf731-05bf-4027-a994-100c87d8f62f",
   "metadata": {},
   "outputs": [],
   "source": []
  }
 ],
 "metadata": {
  "kernelspec": {
   "display_name": "Python 3",
   "language": "python",
   "name": "python3"
  },
  "language_info": {
   "codemirror_mode": {
    "name": "ipython",
    "version": 3
   },
   "file_extension": ".py",
   "mimetype": "text/x-python",
   "name": "python",
   "nbconvert_exporter": "python",
   "pygments_lexer": "ipython3",
   "version": "3.9.4"
  }
 },
 "nbformat": 4,
 "nbformat_minor": 5
}
